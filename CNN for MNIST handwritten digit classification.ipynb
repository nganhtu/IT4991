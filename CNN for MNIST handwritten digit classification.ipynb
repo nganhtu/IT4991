{
  "nbformat": 4,
  "nbformat_minor": 0,
  "metadata": {
    "colab": {
      "name": "Áp dụng CNN xử lý bài toán phân loại chữ số viết tay MNIST",
      "provenance": [],
      "collapsed_sections": [],
      "toc_visible": true
    },
    "kernelspec": {
      "name": "python3",
      "display_name": "Python 3"
    },
    "language_info": {
      "name": "python"
    }
  },
  "cells": [
    {
      "cell_type": "markdown",
      "metadata": {
        "id": "Njt6_bjOjrr0"
      },
      "source": [
        "# Giới thiệu"
      ]
    },
    {
      "cell_type": "markdown",
      "metadata": {
        "id": "se2GtQSAju4a"
      },
      "source": [
        "Phân loại chữ số viết tay là một trong số những bài toán cơ bản của học máy. Bài toán đặt ra yêu cầu đào tạo máy tính có thể nhận diện và phân biệt được chữ số viết tay của con người.\n",
        "\n",
        "Trong báo cáo này, em sẽ xây dựng một mạng neural tích chập (CNN) để giải quyết bài toán trên. Cụ thể hơn, các bước xây dựng như sau:\n",
        "- Phát triển một mô hình cơ sở và thiết lập một cách đánh giá hiệu suất phân loại của mô hình đó.\n",
        "- Tìm cách phát triển mô hình cơ sở để cải thiện năng lực học tập và khả năng đánh giá.\n",
        "- Chọn một mô hình tốt nhất, đánh giá hiệu suất và sử dụng để đưa ra dự đoán về hình ảnh mới."
      ]
    },
    {
      "cell_type": "markdown",
      "metadata": {
        "id": "TmXy1G52FXHk"
      },
      "source": [
        "# Chuẩn bị tập dữ liệu"
      ]
    },
    {
      "cell_type": "markdown",
      "metadata": {
        "id": "W6E2W6ABrvx_"
      },
      "source": [
        "Tập dữ liệu đã sửa đổi của Viện Tiêu chuẩn và Kĩ thuật Quốc gia (MNIST) là một tập dữ liệu chứa các hình ảnh của các chữ số viết tay từ 0 đến 9. Bài toán yêu cầu phân loại một hình ảnh của một chữ số viết tay thành một trong 10 lớp đại diện cho các giá trị nguyên lần lượt từ 0 đến 9.\n",
        "\n",
        "Tập dữ liệu gồm 60,000 ảnh trong training set và 10,000 ảnh trong test set. Tất cả các hình ảnh đều là ảnh đen trắng, kích thước 28x28 pixel."
      ]
    },
    {
      "cell_type": "markdown",
      "metadata": {
        "id": "zq1wxQgXc0xS"
      },
      "source": [
        "## Tải tập dữ liệu"
      ]
    },
    {
      "cell_type": "markdown",
      "metadata": {
        "id": "U2A5gYhNsLnF"
      },
      "source": [
        "Sử dụng API [load_data](https://www.tensorflow.org/api_docs/python/tf/keras/datasets/mnist/load_data) của Keras để tải tập dữ liệu về và tạo một biểu đồ chứa 9 hình ảnh đầu tiên trong tập dữ liệu."
      ]
    },
    {
      "cell_type": "code",
      "metadata": {
        "colab": {
          "base_uri": "https://localhost:8080/",
          "height": 352
        },
        "id": "6Zxa60RGavCI",
        "outputId": "29051069-9864-4850-e734-f60ea08016ee"
      },
      "source": [
        "# example of loading the mnist dataset\n",
        "from keras.datasets import mnist\n",
        "from matplotlib import pyplot\n",
        "\n",
        "\n",
        "# load dataset\n",
        "(trainX, trainy), (testX, testy) = mnist.load_data()\n",
        "# summarize loaded dataset\n",
        "print('Train: X=%s, y=%s' % (trainX.shape, trainy.shape))\n",
        "print('Test: X=%s, y=%s' % (testX.shape, testy.shape))\n",
        "# plot first few images\n",
        "for i in range(9):\n",
        "    # define subplot\n",
        "    pyplot.subplot(330 + 1 + i)\n",
        "    # plot raw pixel data\n",
        "    pyplot.imshow(trainX[i], cmap=pyplot.get_cmap('gray'))\n",
        "# show the figure\n",
        "pyplot.show()\n"
      ],
      "execution_count": null,
      "outputs": [
        {
          "output_type": "stream",
          "text": [
            "Downloading data from https://storage.googleapis.com/tensorflow/tf-keras-datasets/mnist.npz\n",
            "11493376/11490434 [==============================] - 0s 0us/step\n",
            "11501568/11490434 [==============================] - 0s 0us/step\n",
            "Train: X=(60000, 28, 28), y=(60000,)\n",
            "Test: X=(10000, 28, 28), y=(10000,)\n"
          ],
          "name": "stdout"
        },
        {
          "output_type": "display_data",
          "data": {
            "image/png": "[encoded data removed]",
            "text/plain": [
              "<Figure size 432x288 with 9 Axes>"
            ]
          },
          "metadata": {
            "tags": [],
            "needs_background": "light"
          }
        }
      ]
    },
    {
      "cell_type": "markdown",
      "metadata": {
        "id": "xIJDOfolavQw"
      },
      "source": [
        "Có một số thông tin đã biết về tập dữ liệu này.\n",
        "\n",
        "Đầu tiên, tất cả các hình ảnh đều đã được xử lý qua, chẳng hạn như mỗi ảnh chứa 1 và chỉ 1 chữ số, các ảnh đều có kích thước 28x28 pixel và là ảnh đen trắng. Do đó, có thể reshape mảng dữ liệu để có một kênh màu duy nhất.\n",
        "\n",
        "Thứ hai, bài toán phân loại này có 10 lớp và mỗi lớp đại diện cho một số nguyên duy nhất. Do đó, có thể sử dụng one-hot encoding để thay đổi output thành một vector nhị phân gồm 10 phần tử, với các phần tử đều bằng 0 trừ phần tử nằm ở vị trí tương ứng với lớp đó (bằng 1). Điều này được thực hiện bởi hàm [to_categorical](https://www.tensorflow.org/api_docs/python/tf/keras/utils/to_categorical). Việc áp dụng one-hot encoding để phục vụ việc định nghĩa hàm mất mát (loss function) về sau."
      ]
    },
    {
      "cell_type": "code",
      "metadata": {
        "id": "6z2pvg2afiAw"
      },
      "source": [
        "from tensorflow.keras.utils import to_categorical\n",
        "\n",
        "\n",
        "# load train and test dataset\n",
        "def load_dataset():\n",
        "    # load dataset\n",
        "    (trainX, trainY), (testX, testY) = mnist.load_data()\n",
        "    # reshape dataset to have a single color channel\n",
        "    trainX = trainX.reshape((trainX.shape[0], 28, 28, 1))\n",
        "    testX = testX.reshape((testX.shape[0], 28, 28, 1))\n",
        "    # one hot encode target values\n",
        "    trainY = to_categorical(trainY)\n",
        "    testY = to_categorical(testY)\n",
        "    return trainX, trainY, testX, testY\n",
        "  "
      ],
      "execution_count": null,
      "outputs": []
    },
    {
      "cell_type": "markdown",
      "metadata": {
        "id": "n8tYwHqHvTNI"
      },
      "source": [
        "## Chuẩn bị dữ liệu pixel"
      ]
    },
    {
      "cell_type": "markdown",
      "metadata": {
        "id": "dzkVd9l_vWgH"
      },
      "source": [
        "Giá trị của pixel trong ảnh là một số tự nhiên nằm trong khoảng từ 0 đến 255, biểu thị màu từ đen đến trắng.\n",
        "\n",
        "Có thể chuẩn hóa giá trị đó để nằm trong đoạn $ [0; 1] $. Để làm điều đó, trước tiên cần chuyển kiểu dữ liệu từ unsigned integer sang float, sau đó chia cho 255 là giá trị cao nhất."
      ]
    },
    {
      "cell_type": "code",
      "metadata": {
        "id": "XV1YHTH1vh1L"
      },
      "source": [
        "# scale pixels\n",
        "def prep_pixels(train, test):\n",
        "    # convert from integers to floats\n",
        "    train_norm = train.astype('float32')\n",
        "    test_norm = test.astype('float32')\n",
        "    # normalize to range [0; 1]\n",
        "    train_norm = train_norm / 255.0\n",
        "    test_norm = test_norm / 255.0\n",
        "    # return normalized images\n",
        "    return train_norm, test_norm\n"
      ],
      "execution_count": null,
      "outputs": []
    },
    {
      "cell_type": "markdown",
      "metadata": {
        "id": "JopJ4ymJ6Fzv"
      },
      "source": [
        "# Thiết kế mô hình cơ sở"
      ]
    },
    {
      "cell_type": "markdown",
      "metadata": {
        "id": "MOUb2M9-u68n"
      },
      "source": [
        "## Lý do chọn mô hình CNN"
      ]
    },
    {
      "cell_type": "markdown",
      "metadata": {
        "id": "xjBRyrGKr9WO"
      },
      "source": [
        "Khi nhắc đến những bài toán học máy sử dụng mô hình mạng thần kinh nhân tạo và có input là hình ảnh, CNN thường là một trong những thuật toán đầu tiên được nghĩ đến. Mạng thần kinh kết nối đầy đủ (fully connected neural network) bộc lộ rất rõ những hạn chế của mình trong bài toán này. Chẳng hạn như với một ảnh đen trắng kích thước 28x28, input layer sẽ có 784 node. Trong khi các pixel ở gần nhau thường có mối liên hệ mật thiết hơn hẳn các pixel ở xa thì ở đây mỗi pixel của layer kế tiếp lại liên kết tới toàn bộ các pixel ở layer trước. Điều này làm tăng chi phí giải quyết bài toán lên gấp bội.\n",
        "\n",
        "CNN cải thiện được các nhược điểm đã kể trên. Trước hết, mỗi pixel chỉ liên kết với một số lượng nhỏ các pixel lân cận, giảm đáng kể chi phí bài toán (ví dụ, 9 pixel thay vì 784 với bài toán này). Trong khi đó, phép tính tích chập cho phép lấy ra các đặc trưng khác nhau của hình ảnh tùy thuộc vào kernel. Vì vậy các đặc trưng của hình ảnh, hay nói cách khác, độ chính xác của mô hình gần như được giữ nguyên. Ngoài ra, mô hình CNN đơn giản và dễ triển khai, phù hợp với bài toán này."
      ]
    },
    {
      "cell_type": "markdown",
      "metadata": {
        "id": "iWV1jlg1wQtK"
      },
      "source": [
        "## Định nghĩa mô hình"
      ]
    },
    {
      "cell_type": "markdown",
      "metadata": {
        "id": "oS293bBCDjra"
      },
      "source": [
        "Em sẽ xác định một mô hình CNN cơ sở để giải quyết bài toán.\n",
        "\n",
        "Một mô hình gồm có 2 phần chính: phần trích xuất đặc điểm bao gồm các convolutional và pooling layer, và phần phân loại sẽ đưa ra dự đoán.\n",
        "\n",
        "Về phần trích xuất đặc điểm, có thể bắt đầu với một số lượng nhỏ (32) các kernel kích thước (3, 3) và kèm theo sau là một max pooling layer. Kết quả trả về có thể được làm phẳng để cung cấp các đặc điểm của hình ảnh cho phần phân loại.\n",
        "\n",
        "Bởi vì bài toán phân loại này có 10 lớp, sẽ cần output layer gồm 10 nút với giá trị là dự đoán xác suất hình ảnh có thuộc lớp đó hay không. Do đó chọn hàm kích hoạt ở output layer là hàm softmax: $ a_k = \\frac{e^{z_k}} {\\sum_{i=1}^{10} e^{z_i}} $.\n",
        "\n",
        "Giữa phần trích xuất đặc điểm và output layer, có thể thêm một fully-connected layer để tổng hợp các đặc điểm của hình ảnh, cụ thể trong mô hình này là 100 node.\n",
        "\n",
        "Ngoại trừ output layer, các layer khác đều sử dụng hàm kích hoạt ReLU $ g(z) = \\max\\{0, z\\} $ và khởi tạo trọng số He.\n",
        "\n",
        "API [Optimizers](https://keras.io/api/optimizers/) của Keras sẽ được sử dụng để đưa thuật toán Stochastic Gradient Descent vào mô hình. Thuật toán này sẽ được cấu hình cẩn trọng với learning rate 0.01 và momentum 0.9.\n",
        "\n",
        "Hàm mất mát categorical cross entropy $ H(y, \\hat{y}) = - \\sum_{i=1}^{10} y_i * log(\\hat{y_i}) $ được sử dụng hiệu quả để đánh giá độ chênh lệch giữa dự đoán và thực tế, vì nó đưa ra trừng phạt rất nặng cho các giá trị chênh lệch lớn.\n",
        "\n",
        "Hàm `define_baseline_model()` dưới đây sẽ đưa ra định nghĩa và trả về mô hình này."
      ]
    },
    {
      "cell_type": "code",
      "metadata": {
        "id": "9FL9m1HPwUSL"
      },
      "source": [
        "from tensorflow.keras.layers import Conv2D, Dense, Flatten, MaxPooling2D\n",
        "from tensorflow.keras.models import Sequential\n",
        "from tensorflow.keras.optimizers import SGD\n",
        "\n",
        "\n",
        "# define cnn model\n",
        "def define_baseline_model():\n",
        "    model = Sequential()\n",
        "    model.add(Conv2D(32, (3, 3), activation='relu', kernel_initializer='he_uniform', input_shape=(28, 28, 1)))\n",
        "    model.add(MaxPooling2D((2, 2)))\n",
        "    model.add(Flatten())\n",
        "    model.add(Dense(100, activation='relu', kernel_initializer='he_uniform'))\n",
        "    model.add(Dense(10, activation='softmax'))\n",
        "    # compile model\n",
        "    opt = SGD(learning_rate=0.01, momentum=0.9)\n",
        "    model.compile(optimizer=opt, loss='categorical_crossentropy', metrics=['accuracy'])\n",
        "    return model\n"
      ],
      "execution_count": null,
      "outputs": []
    },
    {
      "cell_type": "markdown",
      "metadata": {
        "id": "fPX_JaPrwX3m"
      },
      "source": [
        "## Đánh giá mô hình"
      ]
    },
    {
      "cell_type": "markdown",
      "metadata": {
        "id": "8gIbd_-wYIFL"
      },
      "source": [
        "Sau khi đã định nghĩa được mô hình cơ sở, tiếp đến sẽ đánh giá nó.\n",
        "\n",
        "Mô hình sẽ được đánh giá bằng kỹ thuật 5-fold cross validation. Tập dữ liệu sẽ được chia thành 5 nhóm, mỗi nhóm sẽ được sử dụng để đánh giá mô hình được đào tạo bởi 4 nhóm còn lại. Giá trị k = 5 được chọn đủ để có cơ sở cho việc đánh giá lặp lại, đồng thời không quá lớn để tiết kiệm thời gian. Mỗi nhóm bao gồm 12,000 hình ảnh, lớn hơn kích thước của test set một chút.\n",
        "\n",
        "Mô hình cơ sở này sẽ được train bởi 10 epoch với kích thước batch là 32 hình ảnh. Test set của mỗi fold sẽ được sử dụng vừa để đánh giá mô hình trong khi đào tạo (để sau này vẽ learning curve), vừa để đánh giá khi mô hình đã đào tạo xong (để đánh giá hiệu quả của mô hình). Do đó, lịch sử kết quả mỗi lần chạy và khả năng phân loại chính xác đều sẽ được theo dõi.\n",
        "\n",
        "Hàm `evaluate_model()` dưới đây nhận tập dữ liệu đào tạo làm tham số và trả về 2 list, điểm đánh giá và lịch sử đào tạo."
      ]
    },
    {
      "cell_type": "code",
      "metadata": {
        "id": "LjT-NDU7ways"
      },
      "source": [
        "from sklearn.model_selection import KFold\n",
        "\n",
        "\n",
        "# evaluate a model using k-fold cross-validation\n",
        "def evaluate_model(dataX, dataY, model_name, n_folds=5):\n",
        "    scores, histories = list(), list()\n",
        "    # prepare cross validation\n",
        "    kfold = KFold(n_folds, shuffle=True, random_state=1)\n",
        "    # enumerate splits\n",
        "    for train_ix, test_ix in kfold.split(dataX):\n",
        "        # define model\n",
        "        if model_name == \"baseline\":\n",
        "            model = define_baseline_model()\n",
        "        elif model_name == \"batch_norm\":\n",
        "            model = define_batch_norm_model()\n",
        "        elif model_name == \"incr_depth\":\n",
        "            model = define_incr_depth_model()\n",
        "        # select rows for train and test\n",
        "        trainX, trainY, testX, testY = dataX[train_ix], dataY[train_ix], dataX[test_ix], dataY[test_ix]\n",
        "        # fit model\n",
        "        history = model.fit(trainX, trainY, epochs=10, batch_size=32, validation_data=(testX, testY), verbose=0)\n",
        "        # evaluate model\n",
        "        _, acc = model.evaluate(testX, testY, verbose=0)\n",
        "        print('> %.3f' % (acc * 100.0))\n",
        "        # stores scores\n",
        "        scores.append(acc)\n",
        "        histories.append(history)\n",
        "    return scores, histories\n"
      ],
      "execution_count": null,
      "outputs": []
    },
    {
      "cell_type": "markdown",
      "metadata": {
        "id": "qg_ORQAgw9ZS"
      },
      "source": [
        "## Kết quả"
      ]
    },
    {
      "cell_type": "markdown",
      "metadata": {
        "id": "NQGxdrH5gHQa"
      },
      "source": [
        "Sau đây là trình bày kết quả mô hình cơ sở đã được đánh giá.\n",
        "\n",
        "Có 2 khía cạnh cần được trình bày: chẩn đoán hành vi học tập của mô hình trong quá trình đào tạo và ước tính hiệu suất của mô hình. Chúng có thể được thực hiện bằng cách sử dụng các hàm riêng biệt.\n",
        "\n",
        "Đầu tiên, chẩn đoán hành vi học tập của mô hình sẽ vẽ biểu đồ đường mô tả hiệu năng của mô hình trên training set và test set trong mỗi fold của 5-fold cross validation. Những biểu đồ này có thể dùng để nhận định rằng mô hình đó đang overfitting, underfitting hay khớp với tập dữ liệu.\n",
        "\n",
        "Em sẽ vẽ 2 biểu đồ, 1 là biểu đồ mất mát, 1 là biểu đồ độ chính xác. Các đường màu xanh lam biểu diễn hiệu suất của mô hình trên training set, còn màu cam là trên test set.\n",
        "\n",
        "Hàm `summarize_diagnostics()` dưới đây vẽ các biểu đồ đó dựa trên lịch sử đào tạo đã ghi nhận."
      ]
    },
    {
      "cell_type": "code",
      "metadata": {
        "id": "29VOlNwMw_6u"
      },
      "source": [
        "# plot diagnostic learning curves\n",
        "def summarize_diagnostics(histories):\n",
        "    for i in range(len(histories)):\n",
        "        # plot loss\n",
        "        pyplot.subplot(2, 1, 1)\n",
        "        pyplot.title('Cross Entropy Loss')\n",
        "        pyplot.plot(histories[i].history['loss'], color='blue', label='train')\n",
        "        pyplot.plot(histories[i].history['val_loss'], color='orange', label='test')\n",
        "        # plot accuracy\n",
        "        pyplot.subplot(2, 1, 2)\n",
        "        pyplot.title('Classification Accuracy')\n",
        "        pyplot.plot(histories[i].history['accuracy'], color='blue', label='train')\n",
        "        pyplot.plot(histories[i].history['val_accuracy'], color='orange', label='test')\n",
        "    pyplot.show()\n"
      ],
      "execution_count": null,
      "outputs": []
    },
    {
      "cell_type": "markdown",
      "metadata": {
        "id": "yTTTpjXBnE77"
      },
      "source": [
        "Thứ hai, ước tính hiệu suất của mô hình. Điểm số độ chính xác của việc phân loại trong mỗi fold có thể được tóm gọn bằng trung bình và độ lệch chuẩn. Điều này sẽ đưa ra ước tính hiệu suất của mô hình được đào tạo trên tập dữ liệu này. Dạng biểu đồ được sử dụng ở đây là biểu đồ hộp.\n",
        "\n",
        "Hàm `summarize_performance()` dưới đây vẽ biểu đồ đó dựa trên một list các điếm số thu được trong quá trình đánh giá mô hình."
      ]
    },
    {
      "cell_type": "code",
      "metadata": {
        "id": "qzxW6rk8xWgw"
      },
      "source": [
        "from numpy import mean, std\n",
        "\n",
        "\n",
        "# summarize model performance\n",
        "def summarize_performance(scores):\n",
        "    # print summary\n",
        "    print('Accuracy: mean=%.3f std=%.3f, n=%d' % (mean(scores)*100, std(scores)*100, len(scores)))\n",
        "    # box and whisker plots of results\n",
        "    pyplot.boxplot(scores)\n",
        "    pyplot.show()\n"
      ],
      "execution_count": null,
      "outputs": []
    },
    {
      "cell_type": "markdown",
      "metadata": {
        "id": "BxwQahvzpUnS"
      },
      "source": [
        "Hàm `run_test_harness()` dưới đây sẽ gọi tất cả các hàm được định nghĩa phía trên để chạy thử nghiệm."
      ]
    },
    {
      "cell_type": "code",
      "metadata": {
        "id": "WgWO8SQExYV4"
      },
      "source": [
        "# run the test harness for evaluating a model\n",
        "def run_test_harness(model_name):\n",
        "    # load dataset\n",
        "    trainX, trainY, testX, testY = load_dataset()\n",
        "    # prepare pixel data\n",
        "    trainX, testX = prep_pixels(trainX, testX)\n",
        "    # evaluate model\n",
        "    scores, histories = evaluate_model(trainX, trainY, model_name)\n",
        "    # learning curves\n",
        "    summarize_diagnostics(histories)\n",
        "    # summarize estimated performance\n",
        "    summarize_performance(scores)\n"
      ],
      "execution_count": null,
      "outputs": []
    },
    {
      "cell_type": "markdown",
      "metadata": {
        "id": "WzYcQIAypuDC"
      },
      "source": [
        "Chạy hàm `run_test_harness()` để nhận được kết quả như sau:"
      ]
    },
    {
      "cell_type": "code",
      "metadata": {
        "colab": {
          "base_uri": "https://localhost:8080/"
        },
        "id": "j5V19bddA456",
        "outputId": "18687590-ec6d-4bb8-ea04-c30390ab17c7"
      },
      "source": [
        "# entry point, run the test harness\n",
        "run_test_harness(\"baseline\")\n"
      ],
      "execution_count": null,
      "outputs": [
        {
          "output_type": "stream",
          "text": [
            "> 98.633\n",
            "> 98.733\n",
            "> 98.650\n",
            "> 98.850\n",
            "> 98.783\n"
          ],
          "name": "stdout"
        },
        {
          "output_type": "stream",
          "text": [
            "/usr/local/lib/python3.7/dist-packages/ipykernel_launcher.py:5: MatplotlibDeprecationWarning: Adding an axes using the same arguments as a previous axes currently reuses the earlier instance.  In a future version, a new instance will always be created and returned.  Meanwhile, this warning can be suppressed, and the future behavior ensured, by passing a unique label to each axes instance.\n",
            "  \"\"\"\n",
            "/usr/local/lib/python3.7/dist-packages/ipykernel_launcher.py:10: MatplotlibDeprecationWarning: Adding an axes using the same arguments as a previous axes currently reuses the earlier instance.  In a future version, a new instance will always be created and returned.  Meanwhile, this warning can be suppressed, and the future behavior ensured, by passing a unique label to each axes instance.\n",
            "  # Remove the CWD from sys.path while we load stuff.\n"
          ],
          "name": "stderr"
        },
        {
          "output_type": "display_data",
          "data": {
            "image/png": "[encoded data removed]",
            "text/plain": [
              "<Figure size 432x288 with 2 Axes>"
            ]
          },
          "metadata": {
            "tags": [],
            "needs_background": "light"
          }
        },
        {
          "output_type": "stream",
          "text": [
            "Accuracy: mean=98.730 std=0.081, n=5\n"
          ],
          "name": "stdout"
        },
        {
          "output_type": "display_data",
          "data": {
            "image/png": "[encoded data removed]",
            "text/plain": [
              "<Figure size 432x288 with 1 Axes>"
            ]
          },
          "metadata": {
            "tags": [],
            "needs_background": "light"
          }
        }
      ]
    },
    {
      "cell_type": "markdown",
      "metadata": {
        "id": "2NHxKQMeq2el"
      },
      "source": [
        "Trong 5 dòng đầu tiên, có thể thấy các kết quả đều đạt được độ chính xác lớn hơn 98%. Đây là một kết quả tốt.\n",
        "\n",
        "Kế tiếp, trong biểu đồ hành vi học tập, có thể thấy rằng mô hình nhìn chung phù hợp với tập dữ liệu. Biểu hiện là các đường cong ứng với training set và test set đều có vẻ hội tụ và không có dấu hiệu underfitting hay overfitting.\n",
        "\n",
        "Sau đó, một tóm tắt về hiệu suất của mô hình được đưa ra. Có thể thấy mô hình đạt độ chính xác trung bình 98.730% là hợp lý.\n",
        "\n",
        "Cuối cùng, từ biểu đồ hộp có thể thấy được phân bố độ chính xác không có điểm gì bất thường.\n",
        "\n",
        "Vậy mô hình cơ sở nhìn chung đã hoạt động khá tốt."
      ]
    },
    {
      "cell_type": "markdown",
      "metadata": {
        "id": "p30Yh4U4Hgfd"
      },
      "source": [
        "# Cải tiến mô hình"
      ]
    },
    {
      "cell_type": "markdown",
      "metadata": {
        "id": "qcVFjvP2u_Ew"
      },
      "source": [
        "Có nhiều cách để cải tiến mô hình cơ sở này. Em sẽ thử một số cách cấu hình thường đem lại những thay đổi tích cực."
      ]
    },
    {
      "cell_type": "markdown",
      "metadata": {
        "id": "Ofc4Msgs5QZw"
      },
      "source": [
        "## Chuẩn hóa hàng loạt\n"
      ]
    },
    {
      "cell_type": "markdown",
      "metadata": {
        "id": "wqcl3oAExWCt"
      },
      "source": [
        "Một cách tiếp cận có thể đẩy nhanh quá trình học một mô hình và dẫn đến cải tiến hiệu suất lớn là chuẩn hóa hàng loạt (batch normalization). Trong phần này, em sẽ đánh giá tác động của quá trình chuẩn hóa hàng loạt đối với mô hình cơ sở.\n",
        "\n",
        "Chuẩn hóa hàng loạt có thể thực hiện sau convolutional và fully connected layer. Nó có tác dụng thay đổi phân bố đầu ra của layer đó, cụ thể bằng cách chuẩn hóa các đầu ra về dạng chuẩn tắc: $ (\\mu, \\sigma) = (0, 1) $. Điều này nhằm ổn định và thúc đẩy quá trình học tập.\n",
        "\n",
        "Định nghĩa mô hình cơ sở có thể được cập nhật để sử dụng chuẩn hóa hàng loạt sau hàm kích hoạt của convolutional và fully connected layer. Hàm `define_batch_norm_model()` dưới đây định nghĩa mô hình đã được cập nhật theo cách đó."
      ]
    },
    {
      "cell_type": "code",
      "metadata": {
        "id": "5IFvZNmV5he9"
      },
      "source": [
        "from tensorflow.keras.layers import BatchNormalization\n",
        "\n",
        "\n",
        "def define_batch_norm_model():\n",
        "    model = Sequential()\n",
        "    model.add(Conv2D(32, (3, 3), activation='relu', kernel_initializer='he_uniform', input_shape=(28, 28, 1)))\n",
        "    model.add(BatchNormalization())\n",
        "    model.add(MaxPooling2D((2, 2)))\n",
        "    model.add(Flatten())\n",
        "    model.add(Dense(100, activation='relu', kernel_initializer='he_uniform'))\n",
        "    model.add(BatchNormalization())\n",
        "    model.add(Dense(10, activation='softmax'))\n",
        "    # compile model\n",
        "    opt = SGD(learning_rate=0.01, momentum=0.9)\n",
        "    model.compile(optimizer=opt, loss='categorical_crossentropy', metrics=['accuracy'])\n",
        "    return model\n"
      ],
      "execution_count": null,
      "outputs": []
    },
    {
      "cell_type": "markdown",
      "metadata": {
        "id": "VAWf4t7V13do"
      },
      "source": [
        "Chạy thử đánh giá mô hình mới:"
      ]
    },
    {
      "cell_type": "code",
      "metadata": {
        "colab": {
          "base_uri": "https://localhost:8080/",
          "height": 717
        },
        "id": "Ba-fGuJP8A5t",
        "outputId": "425ac72e-2fe4-4ca0-b68f-4abf549cd2b7"
      },
      "source": [
        "# entry point, run the test harness\n",
        "run_test_harness(\"batch_norm\")\n"
      ],
      "execution_count": null,
      "outputs": [
        {
          "output_type": "stream",
          "text": [
            "> 98.592\n",
            "> 98.625\n",
            "> 98.708\n",
            "> 98.858\n",
            "> 98.775\n"
          ],
          "name": "stdout"
        },
        {
          "output_type": "stream",
          "text": [
            "/usr/local/lib/python3.7/dist-packages/ipykernel_launcher.py:5: MatplotlibDeprecationWarning: Adding an axes using the same arguments as a previous axes currently reuses the earlier instance.  In a future version, a new instance will always be created and returned.  Meanwhile, this warning can be suppressed, and the future behavior ensured, by passing a unique label to each axes instance.\n",
            "  \"\"\"\n",
            "/usr/local/lib/python3.7/dist-packages/ipykernel_launcher.py:10: MatplotlibDeprecationWarning: Adding an axes using the same arguments as a previous axes currently reuses the earlier instance.  In a future version, a new instance will always be created and returned.  Meanwhile, this warning can be suppressed, and the future behavior ensured, by passing a unique label to each axes instance.\n",
            "  # Remove the CWD from sys.path while we load stuff.\n"
          ],
          "name": "stderr"
        },
        {
          "output_type": "display_data",
          "data": {
            "image/png": "[encoded data removed]",
            "text/plain": [
              "<Figure size 432x288 with 2 Axes>"
            ]
          },
          "metadata": {
            "tags": [],
            "needs_background": "light"
          }
        },
        {
          "output_type": "stream",
          "text": [
            "Accuracy: mean=98.712 std=0.097, n=5\n"
          ],
          "name": "stdout"
        },
        {
          "output_type": "display_data",
          "data": {
            "image/png": "[encoded data removed]",
            "text/plain": [
              "<Figure size 432x288 with 1 Axes>"
            ]
          },
          "metadata": {
            "tags": [],
            "needs_background": "light"
          }
        }
      ]
    },
    {
      "cell_type": "markdown",
      "metadata": {
        "id": "QVICHKQm2rUG"
      },
      "source": [
        "Sử dụng những đánh giá tương tự mô hình cơ sở, có thể nhận thấy hiệu suất mô hình nhìn chung giảm nhẹ. Phân phối độ chính xác vẫn không có gì bất thường, khả năng hội tụ của các đường cong của 2 mô hình khá tương đồng.\n",
        "\n",
        "Từ đó có thể rút ra, chuẩn hóa hàng loạt không đem lại lợi ích gì trong việc cải tiến mô hình cơ sở."
      ]
    },
    {
      "cell_type": "markdown",
      "metadata": {
        "id": "s5473jTmBrs5"
      },
      "source": [
        "## Tăng độ sâu\n"
      ]
    },
    {
      "cell_type": "markdown",
      "metadata": {
        "id": "N4vu0dVB4Sul"
      },
      "source": [
        "Có 2 cách tiếp cận để tăng độ sâu cho mô hình trong bài toán này: tăng độ sâu ở phần trích xuất đặc điểm, hoặc ở phần phân loại. Cảm quan cho rằng việc tăng độ sâu ở phần trích xuất đặc điểm có lẽ sẽ đem lại hiệu quả cao hơn, nên phần này em sẽ cải thiện độ sâu của phần trích xuất đặc điểm và theo dõi ảnh hưởng của nó tới mô hình.\n",
        "\n",
        "Ta có thể tăng độ sâu của phần trích xuất đặc điểm dựa theo mô hình VGG-16 bằng cách thêm các convolutional và pooling layer với cùng kích thước kernel, trong khi tăng số lượng kernel lên. Trong lần cải thiện này, em sẽ thêm 2 convolutional layer với 64 kernel, kèm theo là 1 max pooling layer.\n",
        "\n",
        "Hàm `define_incr_depth_model()` dưới đây định nghĩa mô hình đã được cập nhật theo cách đó."
      ]
    },
    {
      "cell_type": "code",
      "metadata": {
        "id": "j36cu7mCBwU7"
      },
      "source": [
        "def define_incr_depth_model():\n",
        "    model = Sequential()\n",
        "    model.add(Conv2D(32, (3, 3), activation='relu', kernel_initializer='he_uniform', input_shape=(28, 28, 1)))\n",
        "    model.add(MaxPooling2D((2, 2)))\n",
        "    model.add(Conv2D(64, (3, 3), activation='relu', kernel_initializer='he_uniform'))\n",
        "    model.add(Conv2D(64, (3, 3), activation='relu', kernel_initializer='he_uniform'))\n",
        "    model.add(MaxPooling2D((2, 2)))\n",
        "    model.add(Flatten())\n",
        "    model.add(Dense(100, activation='relu', kernel_initializer='he_uniform'))\n",
        "    model.add(Dense(10, activation='softmax'))\n",
        "    # compile model\n",
        "    opt = SGD(learning_rate=0.01, momentum=0.9)\n",
        "    model.compile(optimizer=opt, loss='categorical_crossentropy', metrics=['accuracy'])\n",
        "    return model\n"
      ],
      "execution_count": null,
      "outputs": []
    },
    {
      "cell_type": "markdown",
      "metadata": {
        "id": "KVQfzynaM_4l"
      },
      "source": [
        "Chạy thử đánh giá mô hình mới:"
      ]
    },
    {
      "cell_type": "code",
      "metadata": {
        "colab": {
          "base_uri": "https://localhost:8080/",
          "height": 721
        },
        "id": "Uc1QS5qKCAZ3",
        "outputId": "4814060d-828e-4025-de39-32eb800be369"
      },
      "source": [
        "# entry point, run the test harness\n",
        "run_test_harness(\"incr_depth\")\n"
      ],
      "execution_count": null,
      "outputs": [
        {
          "output_type": "stream",
          "text": [
            "> 98.992\n",
            "> 99.075\n",
            "> 99.017\n",
            "> 99.167\n",
            "> 99.008\n"
          ],
          "name": "stdout"
        },
        {
          "output_type": "stream",
          "text": [
            "/usr/local/lib/python3.7/dist-packages/ipykernel_launcher.py:5: MatplotlibDeprecationWarning: Adding an axes using the same arguments as a previous axes currently reuses the earlier instance.  In a future version, a new instance will always be created and returned.  Meanwhile, this warning can be suppressed, and the future behavior ensured, by passing a unique label to each axes instance.\n",
            "  \"\"\"\n",
            "/usr/local/lib/python3.7/dist-packages/ipykernel_launcher.py:10: MatplotlibDeprecationWarning: Adding an axes using the same arguments as a previous axes currently reuses the earlier instance.  In a future version, a new instance will always be created and returned.  Meanwhile, this warning can be suppressed, and the future behavior ensured, by passing a unique label to each axes instance.\n",
            "  # Remove the CWD from sys.path while we load stuff.\n"
          ],
          "name": "stderr"
        },
        {
          "output_type": "display_data",
          "data": {
            "image/png": "[encoded data removed]",
            "text/plain": [
              "<Figure size 432x288 with 2 Axes>"
            ]
          },
          "metadata": {
            "tags": [],
            "needs_background": "light"
          }
        },
        {
          "output_type": "stream",
          "text": [
            "Accuracy: mean=99.052 std=0.064, n=5\n"
          ],
          "name": "stdout"
        },
        {
          "output_type": "display_data",
          "data": {
            "image/png": "[encoded data removed]",
            "text/plain": [
              "<Figure size 432x288 with 1 Axes>"
            ]
          },
          "metadata": {
            "tags": [],
            "needs_background": "light"
          }
        }
      ]
    },
    {
      "cell_type": "markdown",
      "metadata": {
        "id": "tEQz2-8bNBM-"
      },
      "source": [
        "Có thể thấy rằng tổng thể độ chính xác đã được cải thiện. Độ chính xác trung bình tăng từ 98.730% lên 99.052%, độ lệch chuẩn giảm từ 0.081% xuống 0.064%. Các đồ thị vẫn cho thấy không có dấu hiệu overfitting hay underfitting. Những điều trên cho phép kết luận tăng độ sâu có ảnh hưởng tích cực đến hiệu suất của mô hình."
      ]
    },
    {
      "cell_type": "markdown",
      "metadata": {
        "id": "lLeXr5Ru0eUl"
      },
      "source": [
        "# Mô hình cuối cùng"
      ]
    },
    {
      "cell_type": "markdown",
      "metadata": {
        "id": "vLuEAw-DePQd"
      },
      "source": [
        "Em sẽ chọn mô hình được cải tiến bằng cách tăng độ sâu làm mô hình cuối cùng."
      ]
    },
    {
      "cell_type": "code",
      "metadata": {
        "id": "QRQ4Khaqej5i"
      },
      "source": [
        "def define_final_model():\n",
        "    return define_incr_depth_model()\n"
      ],
      "execution_count": null,
      "outputs": []
    },
    {
      "cell_type": "markdown",
      "metadata": {
        "id": "Gi73qw2SeYkd"
      },
      "source": [
        "## Lưu mô hình cuối cùng"
      ]
    },
    {
      "cell_type": "code",
      "metadata": {
        "id": "RX3fzLrleOhU"
      },
      "source": [
        "def save_final_model():\n",
        "\t# load dataset\n",
        "\ttrainX, trainY, testX, testY = load_dataset()\n",
        "\t# prepare pixel data\n",
        "\ttrainX, testX = prep_pixels(trainX, testX)\n",
        "\t# define model\n",
        "\tmodel = define_final_model()\n",
        "\t# fit model\n",
        "\tmodel.fit(trainX, trainY, epochs=10, batch_size=32, verbose=0)\n",
        "\t# save model\n",
        "\tmodel.save('final_model.h5')\n",
        "\n",
        "\n",
        "save_final_model()\n"
      ],
      "execution_count": null,
      "outputs": []
    },
    {
      "cell_type": "markdown",
      "metadata": {
        "id": "rRG1caLJfUhW"
      },
      "source": [
        "## Đánh giá mô hình cuối cùng"
      ]
    },
    {
      "cell_type": "markdown",
      "metadata": {
        "id": "Bnc5W9_MPWqS"
      },
      "source": [
        "Mô hình cuối cùng phải phù hợp cho tất cả các dữ liệu có sẵn. Vì vậy, test set với 10,000 hình ảnh đã được giữ lại để đánh giá hiệu suất của mô hình này. Đây là một ý tưởng tốt vì mô hình cuối cùng mới chỉ được đào tạo và kiểm tra trên training test.\n",
        "\n",
        "Bây giờ, mô hình cuối cùng sẽ được đánh giá thông qua việc xử lý test set."
      ]
    },
    {
      "cell_type": "code",
      "metadata": {
        "colab": {
          "base_uri": "https://localhost:8080/"
        },
        "id": "S2vSoMIBfYJ8",
        "outputId": "f6a3ca4e-f65b-4d11-8644-23f39734b885"
      },
      "source": [
        "from tensorflow.keras.models import load_model\n",
        "\n",
        "\n",
        "# evaluate the final model in the test dataset\n",
        "def evaluate_final_model():\n",
        "    # load dataset\n",
        "    trainX, trainY, testX, testY = load_dataset()\n",
        "    # prepare pixel data\n",
        "    trainX, testX = prep_pixels(trainX, testX)\n",
        "    # load model\n",
        "    model = load_model('final_model.h5')\n",
        "    # evaluate model on test dataset\n",
        "    _, acc = model.evaluate(testX, testY, verbose=0)\n",
        "    print('> %.3f' % (acc * 100.0))\n",
        "\n",
        "\n",
        "# entry point, run the test harness\n",
        "evaluate_final_model()\n"
      ],
      "execution_count": null,
      "outputs": [
        {
          "output_type": "stream",
          "text": [
            "> 99.080\n"
          ],
          "name": "stdout"
        }
      ]
    },
    {
      "cell_type": "markdown",
      "metadata": {
        "id": "yhdWNV1fRRKR"
      },
      "source": [
        "Kết quả đánh giá dựa trên việc xử lý test set của mô hình đã đạt được con số phù hợp với phân phối đã được thử nghiệm trên training test. Như vậy có thể kết luận rằng phân phối đó là phù hợp để dự đoán độ chính xác của mô hình này khi đưa vào thử nghiệm thực tế."
      ]
    },
    {
      "cell_type": "markdown",
      "metadata": {
        "id": "DkhuZVOu3Ezq"
      },
      "source": [
        "# Đưa ra dự đoán"
      ]
    },
    {
      "cell_type": "markdown",
      "metadata": {
        "id": "73PiNQ0C3Jae"
      },
      "source": [
        "Mô hình cuối cùng có thể dùng để đưa ra đánh giá trên hình ảnh mới.\n",
        "\n",
        "Mô hình yêu cầu hình ảnh phải là ảnh đen trắng, được căn chỉnh để có 1 chữ số nằm ở giữa ảnh, và kích thước ảnh là 28x28.\n",
        "\n",
        "[sample_image.png](https://www.freecodecamp.org/news/content/images/2021/01/test_image_7.png) là một ảnh được trích xuất trong tập dữ liệu test của MNIST. Giả sử hình ảnh này là hoàn toàn mới, chưa từng được thấy trước đó, đã xử lý đủ để trở thành đầu vào. Hãy xem cách mô hình trên dự đoán chữ số trên ảnh (như kỳ vọng là 7)."
      ]
    },
    {
      "cell_type": "code",
      "metadata": {
        "colab": {
          "base_uri": "https://localhost:8080/",
          "height": 282
        },
        "id": "RQLADYOJ3LhC",
        "outputId": "9f9db3ba-325b-43ce-b4ff-b4bbfbe9294c"
      },
      "source": [
        "# make a prediction for a new image\n",
        "from keras.preprocessing.image import load_img\n",
        "from keras.preprocessing.image import img_to_array\n",
        "from keras.models import load_model\n",
        "from numpy import argmax\n",
        "\n",
        "\n",
        "# load and prepare the image\n",
        "def load_image(filename):\n",
        "    # load the image\n",
        "    img = load_img(filename, color_mode=\"grayscale\", target_size=(28, 28))\n",
        "    pyplot.imshow(img)\n",
        "    pyplot.show()\n",
        "    # convert to array\n",
        "    img = img_to_array(img)\n",
        "    # reshape into a single sample with 1 channel\n",
        "    img = img.reshape(1, 28, 28, 1)\n",
        "    # prepare pixel data\n",
        "    img = img.astype('float32')\n",
        "    img = img / 255.0\n",
        "    return img\n",
        "\n",
        "\n",
        "# load an image and predict the class\n",
        "def run_example():\n",
        "    # load the image\n",
        "    img = load_image('sample_image.png')\n",
        "    # load model\n",
        "    model = load_model('final_model.h5')\n",
        "    # predict the class\n",
        "    digit = argmax(model.predict(img), axis=-1)\n",
        "    print(digit[0])\n",
        "\n",
        "\n",
        "# entry point, run the example\n",
        "run_example()\n"
      ],
      "execution_count": null,
      "outputs": [
        {
          "output_type": "display_data",
          "data": {
            "image/png": "[encoded data removed]",
            "text/plain": [
              "<Figure size 432x288 with 1 Axes>"
            ]
          },
          "metadata": {
            "tags": [],
            "needs_background": "light"
          }
        },
        {
          "output_type": "stream",
          "text": [
            "7\n"
          ],
          "name": "stdout"
        }
      ]
    },
    {
      "cell_type": "markdown",
      "metadata": {
        "id": "EcDOqUDyfmbq"
      },
      "source": [
        "# Kết luận"
      ]
    },
    {
      "cell_type": "markdown",
      "metadata": {
        "id": "iBIPzElTVIbw"
      },
      "source": [
        "Bài toán phân loại chữ số viết tay MNIST đã được giải quyết qua từng bước: chọn mô hình phù hợp, sau đó tìm cách tối ưu hóa mô hình này. Kết quả đem lại độ chính xác hơn 99% là đủ để ứng dụng vào một số công việc trong thực tế. Mô hình này vẫn có thể cải thiện hơn nữa, có thể bằng cách tăng thêm độ sâu dựa theo mô hình VGG-16, hoặc tìm kiếm một hướng đi khác ngoài 2 hướng đã xét trên. Tiềm năng phát triển của mô hình này là lớn, vì ngày nay, VGG-16 với kiến trúc tương đồng vẫn đang được đánh giá là một trong những mô hình tốt nhất cho lớp bài toán phân loại hình ảnh nói chung."
      ]
    },
    {
      "cell_type": "markdown",
      "metadata": {
        "id": "vvUa8r-lfpNR"
      },
      "source": [
        "# Tài liệu tham khảo"
      ]
    },
    {
      "cell_type": "markdown",
      "metadata": {
        "id": "W9cBwdS7E3ex"
      },
      "source": [
        "https://machinelearningmastery.com/how-to-develop-a-convolutional-neural-network-from-scratch-for-mnist-handwritten-digit-classification/\n",
        "\n",
        "https://nttuan8.com/bai-7-gioi-thieu-keras-va-bai-toan-phan-loai-anh/\n",
        "\n",
        "https://nttuan8.com/bai-6-convolutional-neural-network/\n",
        "\n",
        "https://stanford.edu/~shervine/l/vi/teaching/cs-230/\n",
        "\n",
        "https://mmuratarat.github.io/2019-02-25/xavier-glorot-he-weight-init\n",
        "\n",
        "https://machinelearningcoban.com/2017/01/16/gradientdescent2/\n",
        "\n",
        "https://machinelearningcoban.com/2017/02/17/softmax/\n",
        "\n",
        "https://www.analyticsvidhya.com/blog/2021/03/introduction-to-batch-normalization/\n",
        "\n",
        "https://www.geeksforgeeks.org/vgg-16-cnn-model/"
      ]
    }
  ]
}